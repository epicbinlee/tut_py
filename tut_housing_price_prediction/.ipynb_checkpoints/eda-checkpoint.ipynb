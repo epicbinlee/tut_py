{
 "cells": [
  {
   "cell_type": "code",
   "execution_count": 3,
   "id": "initial_id",
   "metadata": {
    "collapsed": true,
    "ExecuteTime": {
     "end_time": "2023-12-23T17:01:03.764739Z",
     "start_time": "2023-12-23T17:01:03.749779600Z"
    }
   },
   "outputs": [],
   "source": [
    "import numpy as np\n",
    "import pandas as pd\n",
    "from sklearn.linear_model import LinearRegression\n",
    "from sklearn.model_selection import train_test_split\n",
    "from sklearn import metrics\n",
    "import matplotlib.pyplot as plt"
   ]
  },
  {
   "cell_type": "code",
   "execution_count": 5,
   "outputs": [],
   "source": [
    "train_df = pd.read_csv(r'./datasets/train.csv')"
   ],
   "metadata": {
    "collapsed": false,
    "ExecuteTime": {
     "end_time": "2023-12-23T17:02:00.931830100Z",
     "start_time": "2023-12-23T17:02:00.723140600Z"
    }
   },
   "id": "51e6e769ea07343e"
  },
  {
   "cell_type": "code",
   "execution_count": 6,
   "outputs": [
    {
     "data": {
      "text/plain": "   house_id     date  location    type block               street  \\\n0    199577  2006-09   Raleigh  5 ROOM  107D       Agawan Court     \n1    217021  2007-06    Fresno  3 ROOM   678              Cleo St   \n2    308062  2010-09    Tucson  4 ROOM     5  E Pleasant View Way   \n3    212465  2007-04    Austin  4 ROOM   326       Park Hollow Ln   \n4     60654  2001-10  Honolulu  4 ROOM   794    Ala Puawa Place     \n\n  storey_range  area_sqm flat_model  commence_date     price  \n0     07 TO 09     110.0          D           2003  313000.0  \n1     07 TO 09      64.0          N           1988  167000.0  \n2     10 TO 12      92.0          K           1976  430000.0  \n3     10 TO 12      92.0          K           1977  303800.0  \n4     04 TO 06     102.0          G           1998  212000.0  ",
      "text/html": "<div>\n<style scoped>\n    .dataframe tbody tr th:only-of-type {\n        vertical-align: middle;\n    }\n\n    .dataframe tbody tr th {\n        vertical-align: top;\n    }\n\n    .dataframe thead th {\n        text-align: right;\n    }\n</style>\n<table border=\"1\" class=\"dataframe\">\n  <thead>\n    <tr style=\"text-align: right;\">\n      <th></th>\n      <th>house_id</th>\n      <th>date</th>\n      <th>location</th>\n      <th>type</th>\n      <th>block</th>\n      <th>street</th>\n      <th>storey_range</th>\n      <th>area_sqm</th>\n      <th>flat_model</th>\n      <th>commence_date</th>\n      <th>price</th>\n    </tr>\n  </thead>\n  <tbody>\n    <tr>\n      <th>0</th>\n      <td>199577</td>\n      <td>2006-09</td>\n      <td>Raleigh</td>\n      <td>5 ROOM</td>\n      <td>107D</td>\n      <td>Agawan Court</td>\n      <td>07 TO 09</td>\n      <td>110.0</td>\n      <td>D</td>\n      <td>2003</td>\n      <td>313000.0</td>\n    </tr>\n    <tr>\n      <th>1</th>\n      <td>217021</td>\n      <td>2007-06</td>\n      <td>Fresno</td>\n      <td>3 ROOM</td>\n      <td>678</td>\n      <td>Cleo St</td>\n      <td>07 TO 09</td>\n      <td>64.0</td>\n      <td>N</td>\n      <td>1988</td>\n      <td>167000.0</td>\n    </tr>\n    <tr>\n      <th>2</th>\n      <td>308062</td>\n      <td>2010-09</td>\n      <td>Tucson</td>\n      <td>4 ROOM</td>\n      <td>5</td>\n      <td>E Pleasant View Way</td>\n      <td>10 TO 12</td>\n      <td>92.0</td>\n      <td>K</td>\n      <td>1976</td>\n      <td>430000.0</td>\n    </tr>\n    <tr>\n      <th>3</th>\n      <td>212465</td>\n      <td>2007-04</td>\n      <td>Austin</td>\n      <td>4 ROOM</td>\n      <td>326</td>\n      <td>Park Hollow Ln</td>\n      <td>10 TO 12</td>\n      <td>92.0</td>\n      <td>K</td>\n      <td>1977</td>\n      <td>303800.0</td>\n    </tr>\n    <tr>\n      <th>4</th>\n      <td>60654</td>\n      <td>2001-10</td>\n      <td>Honolulu</td>\n      <td>4 ROOM</td>\n      <td>794</td>\n      <td>Ala Puawa Place</td>\n      <td>04 TO 06</td>\n      <td>102.0</td>\n      <td>G</td>\n      <td>1998</td>\n      <td>212000.0</td>\n    </tr>\n  </tbody>\n</table>\n</div>"
     },
     "execution_count": 6,
     "metadata": {},
     "output_type": "execute_result"
    }
   ],
   "source": [
    "train_df.head()"
   ],
   "metadata": {
    "collapsed": false,
    "ExecuteTime": {
     "end_time": "2023-12-23T17:02:08.225182Z",
     "start_time": "2023-12-23T17:02:08.208226400Z"
    }
   },
   "id": "9b3c4d0a1688f15c"
  },
  {
   "cell_type": "code",
   "execution_count": 7,
   "outputs": [
    {
     "data": {
      "text/plain": "            house_id       area_sqm  commence_date          price\ncount  271721.000000  271721.000000  271721.000000  271721.000000\nmean   169785.994870      96.544832    1987.982942  281197.589537\nstd     98022.533902      25.587877       9.125141  112160.993184\nmin         1.000000      28.000000    1966.000000   28000.000000\n25%     85021.000000      73.000000    1981.000000  195000.000000\n50%    169739.000000      99.000000    1987.000000  263000.000000\n75%    254609.000000     115.000000    1997.000000  350000.000000\nmax    339651.000000     280.000000    2010.000000  903000.000000",
      "text/html": "<div>\n<style scoped>\n    .dataframe tbody tr th:only-of-type {\n        vertical-align: middle;\n    }\n\n    .dataframe tbody tr th {\n        vertical-align: top;\n    }\n\n    .dataframe thead th {\n        text-align: right;\n    }\n</style>\n<table border=\"1\" class=\"dataframe\">\n  <thead>\n    <tr style=\"text-align: right;\">\n      <th></th>\n      <th>house_id</th>\n      <th>area_sqm</th>\n      <th>commence_date</th>\n      <th>price</th>\n    </tr>\n  </thead>\n  <tbody>\n    <tr>\n      <th>count</th>\n      <td>271721.000000</td>\n      <td>271721.000000</td>\n      <td>271721.000000</td>\n      <td>271721.000000</td>\n    </tr>\n    <tr>\n      <th>mean</th>\n      <td>169785.994870</td>\n      <td>96.544832</td>\n      <td>1987.982942</td>\n      <td>281197.589537</td>\n    </tr>\n    <tr>\n      <th>std</th>\n      <td>98022.533902</td>\n      <td>25.587877</td>\n      <td>9.125141</td>\n      <td>112160.993184</td>\n    </tr>\n    <tr>\n      <th>min</th>\n      <td>1.000000</td>\n      <td>28.000000</td>\n      <td>1966.000000</td>\n      <td>28000.000000</td>\n    </tr>\n    <tr>\n      <th>25%</th>\n      <td>85021.000000</td>\n      <td>73.000000</td>\n      <td>1981.000000</td>\n      <td>195000.000000</td>\n    </tr>\n    <tr>\n      <th>50%</th>\n      <td>169739.000000</td>\n      <td>99.000000</td>\n      <td>1987.000000</td>\n      <td>263000.000000</td>\n    </tr>\n    <tr>\n      <th>75%</th>\n      <td>254609.000000</td>\n      <td>115.000000</td>\n      <td>1997.000000</td>\n      <td>350000.000000</td>\n    </tr>\n    <tr>\n      <th>max</th>\n      <td>339651.000000</td>\n      <td>280.000000</td>\n      <td>2010.000000</td>\n      <td>903000.000000</td>\n    </tr>\n  </tbody>\n</table>\n</div>"
     },
     "execution_count": 7,
     "metadata": {},
     "output_type": "execute_result"
    }
   ],
   "source": [
    "train_df.describe()"
   ],
   "metadata": {
    "collapsed": false,
    "ExecuteTime": {
     "end_time": "2023-12-23T17:02:13.210785800Z",
     "start_time": "2023-12-23T17:02:13.148832500Z"
    }
   },
   "id": "5371cdaa1f2bc876"
  },
  {
   "cell_type": "code",
   "execution_count": 8,
   "outputs": [
    {
     "data": {
      "text/plain": "house_id         0\ndate             0\nlocation         0\ntype             0\nblock            0\nstreet           0\nstorey_range     0\narea_sqm         0\nflat_model       0\ncommence_date    0\nprice            0\ndtype: int64"
     },
     "execution_count": 8,
     "metadata": {},
     "output_type": "execute_result"
    }
   ],
   "source": [
    "train_df.isnull().sum()"
   ],
   "metadata": {
    "collapsed": false,
    "ExecuteTime": {
     "end_time": "2023-12-23T17:02:21.753565600Z",
     "start_time": "2023-12-23T17:02:21.715667100Z"
    }
   },
   "id": "eafcae0e19a928b"
  },
  {
   "cell_type": "code",
   "execution_count": 9,
   "outputs": [
    {
     "data": {
      "text/plain": "Index(['house_id', 'date', 'location', 'type', 'block', 'street',\n       'storey_range', 'area_sqm', 'flat_model', 'commence_date', 'price'],\n      dtype='object')"
     },
     "execution_count": 9,
     "metadata": {},
     "output_type": "execute_result"
    }
   ],
   "source": [
    "train_df.columns"
   ],
   "metadata": {
    "collapsed": false,
    "ExecuteTime": {
     "end_time": "2023-12-23T17:02:40.853582100Z",
     "start_time": "2023-12-23T17:02:40.814685200Z"
    }
   },
   "id": "5c18e0ef0e4fbb0a"
  },
  {
   "cell_type": "code",
   "execution_count": 10,
   "outputs": [
    {
     "data": {
      "text/plain": "house_id           int64\ndate              object\nlocation          object\ntype              object\nblock             object\nstreet            object\nstorey_range      object\narea_sqm         float64\nflat_model        object\ncommence_date      int64\nprice            float64\ndtype: object"
     },
     "execution_count": 10,
     "metadata": {},
     "output_type": "execute_result"
    }
   ],
   "source": [
    "train_df.dtypes"
   ],
   "metadata": {
    "collapsed": false,
    "ExecuteTime": {
     "end_time": "2023-12-23T17:02:49.120700700Z",
     "start_time": "2023-12-23T17:02:49.100754200Z"
    }
   },
   "id": "d38c76c9e41daa87"
  },
  {
   "cell_type": "code",
   "execution_count": 11,
   "outputs": [
    {
     "data": {
      "text/plain": "house_id           217021\ndate              2007-06\nlocation           Fresno\ntype               3 ROOM\nblock                 678\nstreet            Cleo St\nstorey_range     07 TO 09\narea_sqm             64.0\nflat_model              N\ncommence_date        1988\nprice            167000.0\nName: 1, dtype: object"
     },
     "execution_count": 11,
     "metadata": {},
     "output_type": "execute_result"
    }
   ],
   "source": [
    "train_df.iloc[1]"
   ],
   "metadata": {
    "collapsed": false,
    "ExecuteTime": {
     "end_time": "2023-12-23T17:03:19.456734Z",
     "start_time": "2023-12-23T17:03:19.434793600Z"
    }
   },
   "id": "2890097e1b40f1c4"
  },
  {
   "cell_type": "code",
   "execution_count": 23,
   "outputs": [
    {
     "name": "stdout",
     "output_type": "stream",
     "text": [
      "1984\n",
      "271721\n"
     ]
    },
    {
     "data": {
      "text/plain": "0         107D\n1          678\n2            5\n3          326\n4          794\n          ... \n271716     483\n271717     615\n271718     390\n271719     968\n271720     341\nName: block, Length: 271721, dtype: object"
     },
     "execution_count": 23,
     "metadata": {},
     "output_type": "execute_result"
    }
   ],
   "source": [
    "print(len(train_df['block'].unique()))\n",
    "print(len(train_df))\n",
    "train_df['block']"
   ],
   "metadata": {
    "collapsed": false,
    "ExecuteTime": {
     "end_time": "2023-12-24T02:56:10.406968Z",
     "start_time": "2023-12-24T02:56:10.390011900Z"
    }
   },
   "id": "831d8f994f13ad4"
  },
  {
   "cell_type": "code",
   "execution_count": 24,
   "outputs": [
    {
     "data": {
      "text/plain": "array(['Agawan Court  ', 'Cleo St', 'E Pleasant View Way',\n       'Park Hollow Ln', 'Ala Puawa Place  ', 'Jay Ct', 'Bauman Ave',\n       'Triple Glen Ct', 'Laredo Rd', 'High View Ter SE  ',\n       'Toscana Street NW  ', 'North Manila Avenue', 'S Skokie St',\n       'N Deer Court  ', 'Lillard Rd', 'Marcia Ln', 'Marshfield Drive',\n       'Pegasus Drive NW  ', 'State Route 28  ', 'Palisades Point Cove',\n       'Red Creek Ct', 'Kempton Dr', 'Catlett Street  ', 'Expo Pkwy',\n       '50th Avenue NE  ', 'Hamlin Street  ',\n       'Nw Tamiami Canal Dr - Miami International Airport (mia)',\n       'W Fern Dr', 'Sedum Ln', 'San Mateo Ct', 'Sylvia Way',\n       'US Highway 18  ', 'NE 112th Street  ', 'Kuekue Street  ',\n       'Sea Island Trail', 'Wellington Road  ', 'Mohawk Dr', 'Ne 28th St',\n       'Monthan Street  ', 'S 229th Street  ', 'Pacific Street  ',\n       'NE 98th Street  ', 'Kolopua Street  ', 'E Maclaurin Dr',\n       'Glenvue Drive', 'Waialae Avenue  ', 'Moltke Court  ',\n       'Granite Street  ', 'Ahuwale Place  ', '28th St', 'Mad River Ct',\n       'E Bellewood Pl', 'Stanley Street  ', 'Kempton Street  ',\n       'Ohara Manor Drive', 'Carmelita Ave', 'Madeline Pl',\n       'E Savannah Ave', 'Evelyn Ct', 'Penny St', 'W Dancing Rabbit Ct',\n       'Mc Neill Street  ', 'W Arthur Avenue  ', 'Early Ave',\n       'N Dresden Cir', 'Dennis Chavez Avenue  ', 'Old Palama Street  ',\n       'Shepherd Road NW  ', 'Kalaunu Street  ', 'Tall Pine Dr',\n       'Nuttall Dr', 'W Galena Street  ', 'Sabinas Ct', 'Se 11th St',\n       'Castelon Ct', 'Morris Street  ', 'E Rogers St', 'Country Club Dr',\n       'Pinnacle Ridge Rd', 'Teal Run Pl Ct', 'Arizona Ter NW  ',\n       'Agena Ct', 'Cleveland St', 'Redcliff Dr', 'Benfold Circle  ',\n       'S Yale', 'Kala Place  ', 'Lloyd Ln', 'Alabama Avenue SE  ',\n       'Redwood Arbor Ln', 'York Beach Pl', 'N 93rd St',\n       'Pawaina Place  ', 'East 117th Place', 'South Wabash Avenue',\n       'Orange Cir Dr', 'Cole Creek Dr', 'S Taos Way', '12 Oaks Ct',\n       'N 79th Ct', 'S 170th Lane  ', 'McKinley Square  ',\n       'Alejandro Lane NW  ', 'Park Lane NW  ', 'Pharis Place  ',\n       'Northpark Dr', 'Cole Creek Cir', 'Thistlecreek Ct',\n       'Governors Row', 'Myrtle Vista Ave', 'Lafayette Avenue NE  ',\n       'W Hadley Street  ', '6th St N',\n       '64th Ave - Miami International Airport (mia)', 'Babbitt Ave',\n       'Pali Highway  ', 'Benoit Place  ', 'Glover Court  ',\n       'Las Flores Ct', 'Palmbrook Dr', 'Arlington Avenue  ',\n       'Prestonlake Ct', 'Fitch Way', 'Equestrian Dr', 'Howison Pl SW  ',\n       'Kiawe Place  ', 'Cobblewood Ct', 'Public Way', 'W Garden Cir',\n       'N Omaha', 'E Hopseed Ln', 'Leman Place  ', 'W Lisbon Avenue  ',\n       'Ohio Avenue  ', 'Luna Ladera Avenue SW  ', 'Album Street',\n       'E Garfield Street  ', 'W Helena Court  ', 'W Gates Pass Blvd',\n       'Stonleigh Pl', 'E Street NW  ', 'Carnation Ave',\n       'Connecticut Avenue NW  ', 'Overlook Park Drive  ',\n       '13th Street NW  ', 'E Golden Hills Way', 'Plymouth Colony Dr Ne',\n       'Hyde Park Cir', '25th Ct N', 'Tarwood Way', 'Jupiter Hills Dr',\n       'Arabis Ct', 'Glen Canyon Road NE  ', 'Rose Ln',\n       'Chelan Avenue SW  ', 'Springdale Rd Sw', 'Florida St', 'Belt Way',\n       'W 59th St', 'Blakes Ridge St', 'Kauhako Street  ', 'Montego Dr',\n       'Bay Laurel Ct', 'Driftwood Dr', 'W 13th Street  ', 'Burlwood Dr',\n       'Knowlton Avenue  ', 'Sea Breeze Ln', 'Sunridge St', 'S Gregg Ct',\n       'S 92nd Street  ', 'W 210th Street  ', 'E Hope Avenue  ',\n       'W Fond du Lac Avenue  ', 'Lancelot Loop', 'Vy Ln', 'Rockcreek Dr',\n       'Interstate 43  ', 'Old Hixon Rd', 'Papillion Pkwy', 'Buford',\n       'Odin Road  ', 'Riverlake Way', 'McCollough Ct NW  ',\n       'Orleans Way', 'Atkin Rd', 'Michigan Avenue NE  ',\n       'Granby Street  ', 'E Wood Ave', 'Air Cargo Road S  ',\n       'Woodmere Dr', '9th Avenue S  ', 'Brentford Pl', 'Meadow Hill Ln',\n       'Norfolk Pine St', 'Juniper Ct SE  ', 'Wesley Ave',\n       'Smith Court  ', 'State Highway 181  ', 'Brownie Rd',\n       'Angora Trail', 'Ala Uwila Place  ', 'Rio Cresta Way',\n       'Rothbury Way', 'Norwood Bypass', 'South Street  ', 'S Dexter St',\n       'Fairlawn Avenue SE  ', 'Chihuahua Avenue NE  ', 'Argonne Way  ',\n       'Tara Rd', 'Goose Haven Ln', 'Westover Avenue SW  ',\n       'E Clovis Ave', 'Arcola Way', 'Cantoria Ave', 'N Cheesebrush Ave',\n       'S 101st Street  ', '15th Street NW  ', 'Sw 210th St',\n       'Brandywine Pkwy', 'Nw 86th Ct', 'Arapahoe Pl W  ', 'Dream Ct',\n       'Perry Street NE  ', 'Village Pond Ln', 'Sw 179th Pl', 'Petrel Ct',\n       'Marin Ave', 'Konia Street  ', 'N 9th St', 'R  ', 'Hollandale Cir',\n       'Commons Dr', 'Robertson Avenue', 'Franconia Drive  ',\n       'Piimauna Street  ', 'Billy G Webb', 'Cedar Rail Road  ',\n       '8th Street NE  ', 'Olive Avenue NW  ', 'Mauai Dr',\n       'Copperfield Avenue', 'Twin Tulip Ct', 'Old Cedar Lake Rd',\n       'Bridgehampton Pl', 'Engel Avenue  ', 'Belton Dr', 'Egret Chase',\n       'Brown Road SW  ', 'Stark St', 'Wallis Pl', 'Morning Ct',\n       'NW Golden Drive  ', 'N Sugarbush Pl', 'Summit Ave', 'Sandra Ln',\n       'Blue Water Dr', 'S Teal Estates', 'Lancaster Park Ct', 'Tulip Ln',\n       'Hanover Avenue  ', 'Alta Vista Ave', 'W 43rd Place  ',\n       'Sw 147th Ln', 'Crowley Rogers Way  ', 'Wailupe Circle  ',\n       'Fitzgerald Ct', 'Whittington Drive  ', 'S 152nd Ave',\n       'W Beloit Road  ', 'Margaret Morrison Street', 'Neyland Way',\n       'Tallow Dr', 'Rolleston Ct', 'Summer Trail Ct', 'Moomuku Place  ',\n       'Harwood Ct', 'Cavern Brook Ct', 'E Dolphin Ave', 'Kansas St',\n       '11th Ave', 'G St', 'E Abert Place  ', 'E Hamilton Pl',\n       'Laurel Grove Rd', 'E Ananea Cir', 'S Wildwood Drive  ',\n       'N Runway', 'Tennessee Ct', 'Blue Pearl Ct', 'Rockpointe Dr',\n       'Cambridge Falls Dr', 'Dalhart Way', 'Snows Ct NW  ',\n       'Unity Ave N', 'S 188th Street  ', 'Payton St', 'Chancery Ct NW  ',\n       'Highlander Way', 'Pristine Dr', 'Bonelli Ct', 'Kings Dr',\n       '87th Ave', '78th Ave', 'S Shore Cir', 'June Ct', 'Leeds Avenue  ',\n       'Decoy Dr', 'Nectarine', 'S Marshall Way', 'NE 203rd Court  ',\n       'Padova Ct', 'Van Mourik Ave', 'S 95th Cir', 'L Arbre Way',\n       'Old Harlem', 'N 42nd Street  ', 'Stanley Avenue S  ', 'S Zuni St',\n       'Le Blan Way', 'West 30th Street', 'Cambridge Square Ln',\n       'S 196th Street  ', 'Silent Dr', '35th Ave Ne', 'Pulaa Lane  ',\n       'Westador Dr S', 'Cascade Drive  ', 'North Pier Court',\n       'Flag Ct N', 'Campbell St', 'Maidenstone Dr', 'S Frink Place  ',\n       'Sw 16th Terrace', 'Thomson Place  ', 'Calbira Ave',\n       'Holly Circle  ', \"Piper's Pali  \", 'W Plaza Dr', 'E Galinda Dr',\n       'Hawane Place  ', 'Crescent Ct', 'Golden Ct', '16th Street  ',\n       'S Bay Avenue  ', 'Pyracantha Dr', '17th Avenue S  ',\n       'E Conover St', 'Doreen Ave', 'Splitbranch Ln', 'Sw 102nd Ln',\n       'Chanute Pl SW  ', 'Buckley Ct', 'S 167th Cir', 'NE 66th Street  ',\n       'Umalu Place  ', 'W Brantwood Court  ', 'Lerner Way',\n       'State Highway 61  ', 'Gettysburg Ave N', 'Shelmar Ct',\n       'New Jersey Avenue  ', 'Western Avenue NW  ', 'W 24th Ave',\n       'Cloverdale St', 'Rebecca Ln', 'Ala Hinalo Street  ', 'Ogden St',\n       'Stafford St Nw', 'N Pacific Street  ', 'Sherwood Cir',\n       'W 37th St', 'West 45th Place', 'S 202nd Pl', 'Pilialo Street  ',\n       'Shore Dr', 'E Mateo Cir', 'Seco Dr', 'W 47th St',\n       '30th Avenue NW  ', 'W Tinna Pl', 'Whitis Ave', 'E Solina Ave',\n       'W Martin Drive  ', 'Canal Road NW  ', 'Guadalajara Way',\n       'Nw 5th Ave', 'Holly Dr', 'Maloelap Street  ',\n       'West Montrose Drive', '11th Street SE  ', 'S 102nd Street  ',\n       'Kemp Street  ', 'E Sierra Park Loop', 'S Santa Cruz Ln',\n       'N 48th Ave', 'Sw 12th Terrace', 'Colvin Street  ',\n       'Nw 113th Avenue Rd', 'N Loretta Dr', 'Magnolia Dale Dr',\n       'Black Sea Rd', 'Woodley Road NW  ', 'Alii Road  ', 'Walden Dr',\n       'Lasalla Rd', 'Smarty Jones Street SE  ', 'S The Fountain Mhp',\n       'Cedar Brush Trail', 'Nebraska Avenue NW  ', 'E Ventana Ave',\n       'Bimini Isle Ct', 'S Holly Park Drive  ', 'N Ranier Cir',\n       'Calamondin Way  ', 'E 72nd St', 'E Alabama Pl', 'Gregg Ct',\n       'Wales Avenue NE  ', 'W Water St', 'Wyman Ave',\n       'Park Street Place  ', 'Apartment', 'S 104th St',\n       '38th Street SE  ', 'N Jimson Ln', 'Amber St', \"Gilligan's Way\",\n       '6th Pl NE  ', 'Southcliff Dr', '7th Pl NW  ', '27th Street SE  ',\n       'Twin Oaks Dr', 'Nw 71st Terrace', 'Clear Sky Ct',\n       '57th Street SE  ', '29th Pl NW  ', '5th Ave', 'Bushey Street  ',\n       'Cypher Street  ', 'Fairmont Street NW  ', 'N Kachina Cir',\n       'Montoro Dr', 'Maple Dr', 'E Saranac Ave', 'S Macdonald',\n       'Avenue A', 'Winchester Dr', 'Miller Rd', 'Lyn-park Ln N',\n       'N 123rd Plaza', 'E 5th Street  ', 'South Young Parkway',\n       'W Tom Watson Dr', 'Mt Rainier St', 'E Hale Cir', 'Cedar Dr',\n       'Foxboro Pl NW  ', 'Groff Ct NE  ', 'Bothne Court  ', 'E Napa Pl',\n       'S Zinnia', 'Rock Garden Pl', 'Black St', 'Florida Avenue NE  ',\n       'Grant Street  ', 'Bates Road NE  ', 'Lakeport Cir', 'S 169th St',\n       '46th Street NW  ', 'S 8th Ave Pl', 'Kiana Ln', 'Pimlico Road  ',\n       'Mussett St', 'Turnpike Rd', 'Fairhill Ct', 'S Sorrelle',\n       'Ahamele Place  ', 'N Pad', 'Baywind Ct', 'W Maple Street  ',\n       'Chillum Pl NW  ', 'E Greenway Cir', 'S Valle Verde Cir',\n       'W Keeler St', 'N 40th Place  ', 'Tambor Pl', 'Bell Air Dr',\n       'W Kiowa Cir', 'Marie Pl', 'Timber Line Dr', 'Atascosa Dr',\n       'E 117th Ct', 'N Old Ranch House Rd', 'W Jade St',\n       'Sagacity Drive  ', 'E Pampa Ave', 'Ferrell Woods Lane  ',\n       'Alaskan Way  ', 'Glynview Ct NW  ', 'Foxhall Road NW  ',\n       'S Spring Beauty Way', 'Santa Monica', 'Holiday View St',\n       'S Sorrel Ln', 'Porter Way', 'W 80th St Cir', 'E Calypso Cir',\n       'University Pl NW  ', 'N Cll Largo', 'Holly Ter S  ',\n       'V Street NE  ', 'W Pear Tree', 'H Street NW  ',\n       'Panicum Road NW  ', 'Lullwater Park Way', 'Palisades Dr',\n       'Sw 3rd St', 'Wade Pl', 'Marvin Place  ', 'Dakota Rd'],\n      dtype=object)"
     },
     "execution_count": 24,
     "metadata": {},
     "output_type": "execute_result"
    }
   ],
   "source": [
    "train_df['street'].unique()"
   ],
   "metadata": {
    "collapsed": false,
    "ExecuteTime": {
     "end_time": "2023-12-24T02:56:14.911873900Z",
     "start_time": "2023-12-24T02:56:14.873186200Z"
    }
   },
   "id": "38db57b8ca61a3b4"
  },
  {
   "cell_type": "code",
   "execution_count": null,
   "outputs": [],
   "source": [],
   "metadata": {
    "collapsed": false
   },
   "id": "751f06c1577986db"
  },
  {
   "cell_type": "code",
   "execution_count": null,
   "outputs": [],
   "source": [],
   "metadata": {
    "collapsed": false
   },
   "id": "b5d65efdb3ae6ca0"
  }
 ],
 "metadata": {
  "kernelspec": {
   "display_name": "Python 3",
   "language": "python",
   "name": "python3"
  },
  "language_info": {
   "codemirror_mode": {
    "name": "ipython",
    "version": 2
   },
   "file_extension": ".py",
   "mimetype": "text/x-python",
   "name": "python",
   "nbconvert_exporter": "python",
   "pygments_lexer": "ipython2",
   "version": "2.7.6"
  }
 },
 "nbformat": 4,
 "nbformat_minor": 5
}
