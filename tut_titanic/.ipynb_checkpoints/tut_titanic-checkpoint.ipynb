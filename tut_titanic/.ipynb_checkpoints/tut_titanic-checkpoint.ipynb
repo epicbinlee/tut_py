{
 "cells": [
  {
   "cell_type": "code",
   "execution_count": 277,
   "id": "initial_id",
   "metadata": {
    "collapsed": true,
    "ExecuteTime": {
     "end_time": "2023-12-16T17:53:07.837871400Z",
     "start_time": "2023-12-16T17:53:07.759039500Z"
    }
   },
   "outputs": [],
   "source": [
    "import re\n",
    "import numpy as np\n",
    "import pandas as pd\n",
    "import lightgbm as lgb\n",
    "from sklearn.preprocessing import LabelEncoder\n",
    "from sklearn.model_selection import train_test_split\n",
    "from sklearn.metrics import accuracy_score"
   ]
  },
  {
   "cell_type": "markdown",
   "source": [
    "## 读取数据"
   ],
   "metadata": {
    "collapsed": false
   },
   "id": "e214519e5fa8ae99"
  },
  {
   "cell_type": "code",
   "execution_count": 277,
   "outputs": [],
   "source": [],
   "metadata": {
    "collapsed": false,
    "ExecuteTime": {
     "end_time": "2023-12-16T17:53:07.882288600Z",
     "start_time": "2023-12-16T17:53:07.775995400Z"
    }
   },
   "id": "fa11742f32f4766f"
  },
  {
   "cell_type": "code",
   "execution_count": 278,
   "outputs": [
    {
     "name": "stdout",
     "output_type": "stream",
     "text": [
      "(891, 12) (418, 11) (418, 2)\n"
     ]
    }
   ],
   "source": [
    "train_df = pd.read_csv(r'./datasets/train.csv')\n",
    "test_df = pd.read_csv(r'./datasets/test.csv')\n",
    "gender_df = pd.read_csv(r'./datasets/gender_submission.csv')\n",
    "print(train_df.shape, test_df.shape, gender_df.shape)"
   ],
   "metadata": {
    "collapsed": false,
    "ExecuteTime": {
     "end_time": "2023-12-16T17:53:07.882288600Z",
     "start_time": "2023-12-16T17:53:07.792991400Z"
    }
   },
   "id": "3f91272f994f392f"
  },
  {
   "cell_type": "markdown",
   "source": [
    "## 查看数据类型"
   ],
   "metadata": {
    "collapsed": false
   },
   "id": "806f6cacb1e24ba"
  },
  {
   "cell_type": "code",
   "execution_count": 279,
   "outputs": [
    {
     "name": "stdout",
     "output_type": "stream",
     "text": [
      "PassengerId      int64\n",
      "Survived         int64\n",
      "Pclass           int64\n",
      "Name            object\n",
      "Sex             object\n",
      "Age            float64\n",
      "SibSp            int64\n",
      "Parch            int64\n",
      "Ticket          object\n",
      "Fare           float64\n",
      "Cabin           object\n",
      "Embarked        object\n",
      "dtype: object\n"
     ]
    }
   ],
   "source": [
    "print(train_df.dtypes)"
   ],
   "metadata": {
    "collapsed": false,
    "ExecuteTime": {
     "end_time": "2023-12-16T17:53:07.882288600Z",
     "start_time": "2023-12-16T17:53:07.808976600Z"
    }
   },
   "id": "4a350bb978cc4a42"
  },
  {
   "cell_type": "code",
   "execution_count": 280,
   "outputs": [
    {
     "name": "stdout",
     "output_type": "stream",
     "text": [
      "PassengerId      int64\n",
      "Pclass           int64\n",
      "Name            object\n",
      "Sex             object\n",
      "Age            float64\n",
      "SibSp            int64\n",
      "Parch            int64\n",
      "Ticket          object\n",
      "Fare           float64\n",
      "Cabin           object\n",
      "Embarked        object\n",
      "dtype: object\n"
     ]
    }
   ],
   "source": [
    "print(test_df.dtypes)"
   ],
   "metadata": {
    "collapsed": false,
    "ExecuteTime": {
     "end_time": "2023-12-16T17:53:07.883285700Z",
     "start_time": "2023-12-16T17:53:07.823910Z"
    }
   },
   "id": "1ead24fc6ac58e04"
  },
  {
   "cell_type": "code",
   "execution_count": 281,
   "outputs": [
    {
     "data": {
      "text/plain": "PassengerId    int64\nSurvived       int64\ndtype: object"
     },
     "execution_count": 281,
     "metadata": {},
     "output_type": "execute_result"
    }
   ],
   "source": [
    "gender_df.dtypes"
   ],
   "metadata": {
    "collapsed": false,
    "ExecuteTime": {
     "end_time": "2023-12-16T17:53:07.883285700Z",
     "start_time": "2023-12-16T17:53:07.841862700Z"
    }
   },
   "id": "6d3c7f5f8b5c441b"
  },
  {
   "cell_type": "code",
   "execution_count": 282,
   "outputs": [
    {
     "data": {
      "text/plain": "       PassengerId    Survived      Pclass         Age       SibSp  \\\ncount   891.000000  891.000000  891.000000  714.000000  891.000000   \nmean    446.000000    0.383838    2.308642   29.699118    0.523008   \nstd     257.353842    0.486592    0.836071   14.526497    1.102743   \nmin       1.000000    0.000000    1.000000    0.420000    0.000000   \n25%     223.500000    0.000000    2.000000   20.125000    0.000000   \n50%     446.000000    0.000000    3.000000   28.000000    0.000000   \n75%     668.500000    1.000000    3.000000   38.000000    1.000000   \nmax     891.000000    1.000000    3.000000   80.000000    8.000000   \n\n            Parch        Fare  \ncount  891.000000  891.000000  \nmean     0.381594   32.204208  \nstd      0.806057   49.693429  \nmin      0.000000    0.000000  \n25%      0.000000    7.910400  \n50%      0.000000   14.454200  \n75%      0.000000   31.000000  \nmax      6.000000  512.329200  ",
      "text/html": "<div>\n<style scoped>\n    .dataframe tbody tr th:only-of-type {\n        vertical-align: middle;\n    }\n\n    .dataframe tbody tr th {\n        vertical-align: top;\n    }\n\n    .dataframe thead th {\n        text-align: right;\n    }\n</style>\n<table border=\"1\" class=\"dataframe\">\n  <thead>\n    <tr style=\"text-align: right;\">\n      <th></th>\n      <th>PassengerId</th>\n      <th>Survived</th>\n      <th>Pclass</th>\n      <th>Age</th>\n      <th>SibSp</th>\n      <th>Parch</th>\n      <th>Fare</th>\n    </tr>\n  </thead>\n  <tbody>\n    <tr>\n      <th>count</th>\n      <td>891.000000</td>\n      <td>891.000000</td>\n      <td>891.000000</td>\n      <td>714.000000</td>\n      <td>891.000000</td>\n      <td>891.000000</td>\n      <td>891.000000</td>\n    </tr>\n    <tr>\n      <th>mean</th>\n      <td>446.000000</td>\n      <td>0.383838</td>\n      <td>2.308642</td>\n      <td>29.699118</td>\n      <td>0.523008</td>\n      <td>0.381594</td>\n      <td>32.204208</td>\n    </tr>\n    <tr>\n      <th>std</th>\n      <td>257.353842</td>\n      <td>0.486592</td>\n      <td>0.836071</td>\n      <td>14.526497</td>\n      <td>1.102743</td>\n      <td>0.806057</td>\n      <td>49.693429</td>\n    </tr>\n    <tr>\n      <th>min</th>\n      <td>1.000000</td>\n      <td>0.000000</td>\n      <td>1.000000</td>\n      <td>0.420000</td>\n      <td>0.000000</td>\n      <td>0.000000</td>\n      <td>0.000000</td>\n    </tr>\n    <tr>\n      <th>25%</th>\n      <td>223.500000</td>\n      <td>0.000000</td>\n      <td>2.000000</td>\n      <td>20.125000</td>\n      <td>0.000000</td>\n      <td>0.000000</td>\n      <td>7.910400</td>\n    </tr>\n    <tr>\n      <th>50%</th>\n      <td>446.000000</td>\n      <td>0.000000</td>\n      <td>3.000000</td>\n      <td>28.000000</td>\n      <td>0.000000</td>\n      <td>0.000000</td>\n      <td>14.454200</td>\n    </tr>\n    <tr>\n      <th>75%</th>\n      <td>668.500000</td>\n      <td>1.000000</td>\n      <td>3.000000</td>\n      <td>38.000000</td>\n      <td>1.000000</td>\n      <td>0.000000</td>\n      <td>31.000000</td>\n    </tr>\n    <tr>\n      <th>max</th>\n      <td>891.000000</td>\n      <td>1.000000</td>\n      <td>3.000000</td>\n      <td>80.000000</td>\n      <td>8.000000</td>\n      <td>6.000000</td>\n      <td>512.329200</td>\n    </tr>\n  </tbody>\n</table>\n</div>"
     },
     "execution_count": 282,
     "metadata": {},
     "output_type": "execute_result"
    }
   ],
   "source": [
    "train_df.describe()"
   ],
   "metadata": {
    "collapsed": false,
    "ExecuteTime": {
     "end_time": "2023-12-16T17:53:07.884283400Z",
     "start_time": "2023-12-16T17:53:07.856358700Z"
    }
   },
   "id": "bf3b5028e7ef6124"
  },
  {
   "cell_type": "markdown",
   "source": [
    "## 缺失值处理"
   ],
   "metadata": {
    "collapsed": false
   },
   "id": "25bcb8159b07fdd7"
  },
  {
   "cell_type": "code",
   "execution_count": 283,
   "outputs": [
    {
     "name": "stdout",
     "output_type": "stream",
     "text": [
      "PassengerId      0\n",
      "Survived         0\n",
      "Pclass           0\n",
      "Name             0\n",
      "Sex              0\n",
      "Age            177\n",
      "SibSp            0\n",
      "Parch            0\n",
      "Ticket           0\n",
      "Fare             0\n",
      "Cabin          687\n",
      "Embarked         2\n",
      "dtype: int64\n"
     ]
    }
   ],
   "source": [
    "print(train_df.isnull().sum())"
   ],
   "metadata": {
    "collapsed": false,
    "ExecuteTime": {
     "end_time": "2023-12-16T17:53:07.920191500Z",
     "start_time": "2023-12-16T17:53:07.872315900Z"
    }
   },
   "id": "5220a43fb083b8b0"
  },
  {
   "cell_type": "code",
   "execution_count": 284,
   "outputs": [],
   "source": [
    "# 数值类型, 使用均值填充\n",
    "train_df['Age'].fillna(train_df['Age'].mean(), inplace=True)"
   ],
   "metadata": {
    "collapsed": false,
    "ExecuteTime": {
     "end_time": "2023-12-16T17:53:07.920191500Z",
     "start_time": "2023-12-16T17:53:07.886278100Z"
    }
   },
   "id": "1e95bb2cf22e87e4"
  },
  {
   "cell_type": "code",
   "execution_count": 285,
   "outputs": [],
   "source": [
    "# 字符串类型，使用未知填充\n",
    "train_df['Cabin'].fillna('Unknown', inplace=True)"
   ],
   "metadata": {
    "collapsed": false,
    "ExecuteTime": {
     "end_time": "2023-12-16T17:53:07.975755200Z",
     "start_time": "2023-12-16T17:53:07.905236600Z"
    }
   },
   "id": "cbf8cd69c19b2981"
  },
  {
   "cell_type": "code",
   "execution_count": 286,
   "outputs": [],
   "source": [
    "# 字符串类型，使用未知填充\n",
    "train_df['Embarked'].fillna(train_df['Embarked'].mode()[0], inplace=True)"
   ],
   "metadata": {
    "collapsed": false,
    "ExecuteTime": {
     "end_time": "2023-12-16T17:53:07.993707Z",
     "start_time": "2023-12-16T17:53:07.918198Z"
    }
   },
   "id": "8b1c395724ae1dff"
  },
  {
   "cell_type": "code",
   "execution_count": 287,
   "outputs": [
    {
     "name": "stdout",
     "output_type": "stream",
     "text": [
      "PassengerId    0\n",
      "Survived       0\n",
      "Pclass         0\n",
      "Name           0\n",
      "Sex            0\n",
      "Age            0\n",
      "SibSp          0\n",
      "Parch          0\n",
      "Ticket         0\n",
      "Fare           0\n",
      "Cabin          0\n",
      "Embarked       0\n",
      "dtype: int64\n"
     ]
    }
   ],
   "source": [
    "print(train_df.isnull().sum())"
   ],
   "metadata": {
    "collapsed": false,
    "ExecuteTime": {
     "end_time": "2023-12-16T17:53:08.012657Z",
     "start_time": "2023-12-16T17:53:07.934155200Z"
    }
   },
   "id": "2fa290f1b6e33a8a"
  },
  {
   "cell_type": "markdown",
   "source": [
    "## 特征提取与转换"
   ],
   "metadata": {
    "collapsed": false
   },
   "id": "e1b9441792d7f673"
  },
  {
   "cell_type": "markdown",
   "source": [
    "### name 特征\n",
    "\n",
    "如果你的特征只有几个离散的类别，而不是一个大的类别集，那么选择哪种方式通常取决于你的数据和机器学习模型的性质。以下是对三种方式的简要比较：\n",
    "\n",
    "1. **LabelEncoder:**\n",
    "   - **优点：** 简单，不引入高维度。适用于有序的类别。\n",
    "   - **注意：** 只适合于有序的类别，因为它会为每个类别分配一个整数标签，模型可能会误以为这些整数之间存在某种有序关系。\n",
    "\n",
    "   ```python\n",
    "   from sklearn.preprocessing import LabelEncoder\n",
    "\n",
    "   label_encoder = LabelEncoder()\n",
    "   train_df['Category'] = label_encoder.fit_transform(train_df['Category'])\n",
    "   ```\n",
    "\n",
    "2. **get_dummies:**\n",
    "   - **优点：** 适用于无序的、离散的类别。为每个类别创建一个新的二进制列，不引入假设类别之间有序的信息。\n",
    "   - **缺点：** 可能引入高维度，但对于几个类型的特征通常是可接受的。\n",
    "\n",
    "   ```python\n",
    "   category_dummies = pd.get_dummies(train_df['Category'], prefix='Category')\n",
    "   train_df = pd.concat([train_df, category_dummies], axis=1)\n",
    "   ```\n",
    "\n",
    "3. **map:**\n",
    "   - **优点：** 可以手动指定映射，更加灵活。适用于有序或无序的类别。\n",
    "   - **缺点：** 需要提前定义映射字典，可能需要对数据进行额外的处理。\n",
    "\n",
    "   ```python\n",
    "   category_mapping = {'A': 0, 'B': 1, 'C': 2}\n",
    "   train_df['Category'] = train_df['Category'].map(category_mapping)\n",
    "   ```\n",
    "\n",
    "如果你的特征只有几个类型，而且这些类型之间没有明显的有序关系，通常可以优先考虑使用 `get_dummies` 或 `map`。`get_dummies` 会为每个类别创建一个独热编码列，而 `map` 允许你手动指定映射关系。在这种情况下，选择哪一种通常取决于你更喜欢使用哪种方式，并且哪一种方式更符合你对数据的理解。"
   ],
   "metadata": {
    "collapsed": false
   },
   "id": "f9b5af444040a2a2"
  },
  {
   "cell_type": "code",
   "execution_count": 288,
   "outputs": [
    {
     "data": {
      "text/plain": "0                              Braund, Mr. Owen Harris\n1    Cumings, Mrs. John Bradley (Florence Briggs Th...\n2                               Heikkinen, Miss. Laina\n3         Futrelle, Mrs. Jacques Heath (Lily May Peel)\n4                             Allen, Mr. William Henry\nName: Name, dtype: object"
     },
     "execution_count": 288,
     "metadata": {},
     "output_type": "execute_result"
    }
   ],
   "source": [
    "train_df['Name'].head()"
   ],
   "metadata": {
    "collapsed": false,
    "ExecuteTime": {
     "end_time": "2023-12-16T17:53:08.039583200Z",
     "start_time": "2023-12-16T17:53:07.950112800Z"
    }
   },
   "id": "6983bfea1f333e9f"
  },
  {
   "cell_type": "code",
   "execution_count": 289,
   "outputs": [
    {
     "data": {
      "text/plain": "    LastName Title  NameLength\n0     Braund    Mr          23\n1    Cumings   Mrs          51\n2  Heikkinen  Miss          22",
      "text/html": "<div>\n<style scoped>\n    .dataframe tbody tr th:only-of-type {\n        vertical-align: middle;\n    }\n\n    .dataframe tbody tr th {\n        vertical-align: top;\n    }\n\n    .dataframe thead th {\n        text-align: right;\n    }\n</style>\n<table border=\"1\" class=\"dataframe\">\n  <thead>\n    <tr style=\"text-align: right;\">\n      <th></th>\n      <th>LastName</th>\n      <th>Title</th>\n      <th>NameLength</th>\n    </tr>\n  </thead>\n  <tbody>\n    <tr>\n      <th>0</th>\n      <td>Braund</td>\n      <td>Mr</td>\n      <td>23</td>\n    </tr>\n    <tr>\n      <th>1</th>\n      <td>Cumings</td>\n      <td>Mrs</td>\n      <td>51</td>\n    </tr>\n    <tr>\n      <th>2</th>\n      <td>Heikkinen</td>\n      <td>Miss</td>\n      <td>22</td>\n    </tr>\n  </tbody>\n</table>\n</div>"
     },
     "execution_count": 289,
     "metadata": {},
     "output_type": "execute_result"
    }
   ],
   "source": [
    "# 名称\n",
    "train_df['LastName'] = train_df['Name'].apply(lambda x: x.split(',')[0])\n",
    "train_df['Title'] = train_df['Name'].apply(lambda x: re.search(' ([A-Za-z]+)\\.', x).group(1))\n",
    "train_df['NameLength'] = train_df['Name'].apply(len)\n",
    "train_df[['LastName', 'Title', 'NameLength']].head(3)"
   ],
   "metadata": {
    "collapsed": false,
    "ExecuteTime": {
     "end_time": "2023-12-16T17:53:08.040580700Z",
     "start_time": "2023-12-16T17:53:07.973760800Z"
    }
   },
   "id": "2f47425811e00ed4"
  },
  {
   "cell_type": "code",
   "execution_count": 290,
   "outputs": [
    {
     "data": {
      "text/plain": "   LastName  Title  NameLength\n0        73     12          23\n1       136     13          51\n2       251      9          22",
      "text/html": "<div>\n<style scoped>\n    .dataframe tbody tr th:only-of-type {\n        vertical-align: middle;\n    }\n\n    .dataframe tbody tr th {\n        vertical-align: top;\n    }\n\n    .dataframe thead th {\n        text-align: right;\n    }\n</style>\n<table border=\"1\" class=\"dataframe\">\n  <thead>\n    <tr style=\"text-align: right;\">\n      <th></th>\n      <th>LastName</th>\n      <th>Title</th>\n      <th>NameLength</th>\n    </tr>\n  </thead>\n  <tbody>\n    <tr>\n      <th>0</th>\n      <td>73</td>\n      <td>12</td>\n      <td>23</td>\n    </tr>\n    <tr>\n      <th>1</th>\n      <td>136</td>\n      <td>13</td>\n      <td>51</td>\n    </tr>\n    <tr>\n      <th>2</th>\n      <td>251</td>\n      <td>9</td>\n      <td>22</td>\n    </tr>\n  </tbody>\n</table>\n</div>"
     },
     "execution_count": 290,
     "metadata": {},
     "output_type": "execute_result"
    }
   ],
   "source": [
    "label_encoder = LabelEncoder()\n",
    "train_df['LastName'] = label_encoder.fit_transform(train_df['LastName'])\n",
    "train_df['Title'] = label_encoder.fit_transform(train_df['Title'])\n",
    "train_df['Cabin'] = label_encoder.fit_transform(train_df['Cabin'])\n",
    "\n",
    "train_df[['LastName', 'Title', 'NameLength']].head(3)"
   ],
   "metadata": {
    "collapsed": false,
    "ExecuteTime": {
     "end_time": "2023-12-16T17:53:08.041578100Z",
     "start_time": "2023-12-16T17:53:07.986725200Z"
    }
   },
   "id": "7e3499057de8b360"
  },
  {
   "cell_type": "code",
   "execution_count": 291,
   "outputs": [
    {
     "data": {
      "text/plain": "   PassengerId  Survived  Pclass  \\\n0            1         0       3   \n1            2         1       1   \n2            3         1       3   \n\n                                                Name     Sex   Age  SibSp  \\\n0                            Braund, Mr. Owen Harris    male  22.0      1   \n1  Cumings, Mrs. John Bradley (Florence Briggs Th...  female  38.0      1   \n2                             Heikkinen, Miss. Laina  female  26.0      0   \n\n   Parch            Ticket     Fare  Cabin Embarked  LastName  Title  \\\n0      0         A/5 21171   7.2500    147        S        73     12   \n1      0          PC 17599  71.2833     81        C       136     13   \n2      0  STON/O2. 3101282   7.9250    147        S       251      9   \n\n   NameLength  \n0          23  \n1          51  \n2          22  ",
      "text/html": "<div>\n<style scoped>\n    .dataframe tbody tr th:only-of-type {\n        vertical-align: middle;\n    }\n\n    .dataframe tbody tr th {\n        vertical-align: top;\n    }\n\n    .dataframe thead th {\n        text-align: right;\n    }\n</style>\n<table border=\"1\" class=\"dataframe\">\n  <thead>\n    <tr style=\"text-align: right;\">\n      <th></th>\n      <th>PassengerId</th>\n      <th>Survived</th>\n      <th>Pclass</th>\n      <th>Name</th>\n      <th>Sex</th>\n      <th>Age</th>\n      <th>SibSp</th>\n      <th>Parch</th>\n      <th>Ticket</th>\n      <th>Fare</th>\n      <th>Cabin</th>\n      <th>Embarked</th>\n      <th>LastName</th>\n      <th>Title</th>\n      <th>NameLength</th>\n    </tr>\n  </thead>\n  <tbody>\n    <tr>\n      <th>0</th>\n      <td>1</td>\n      <td>0</td>\n      <td>3</td>\n      <td>Braund, Mr. Owen Harris</td>\n      <td>male</td>\n      <td>22.0</td>\n      <td>1</td>\n      <td>0</td>\n      <td>A/5 21171</td>\n      <td>7.2500</td>\n      <td>147</td>\n      <td>S</td>\n      <td>73</td>\n      <td>12</td>\n      <td>23</td>\n    </tr>\n    <tr>\n      <th>1</th>\n      <td>2</td>\n      <td>1</td>\n      <td>1</td>\n      <td>Cumings, Mrs. John Bradley (Florence Briggs Th...</td>\n      <td>female</td>\n      <td>38.0</td>\n      <td>1</td>\n      <td>0</td>\n      <td>PC 17599</td>\n      <td>71.2833</td>\n      <td>81</td>\n      <td>C</td>\n      <td>136</td>\n      <td>13</td>\n      <td>51</td>\n    </tr>\n    <tr>\n      <th>2</th>\n      <td>3</td>\n      <td>1</td>\n      <td>3</td>\n      <td>Heikkinen, Miss. Laina</td>\n      <td>female</td>\n      <td>26.0</td>\n      <td>0</td>\n      <td>0</td>\n      <td>STON/O2. 3101282</td>\n      <td>7.9250</td>\n      <td>147</td>\n      <td>S</td>\n      <td>251</td>\n      <td>9</td>\n      <td>22</td>\n    </tr>\n  </tbody>\n</table>\n</div>"
     },
     "execution_count": 291,
     "metadata": {},
     "output_type": "execute_result"
    }
   ],
   "source": [
    "train_df['Sex'] = train_df['Sex'].astype('category')\n",
    "train_df['Embarked'] = train_df['Embarked'].astype('category')\n",
    "train_df.head(3)"
   ],
   "metadata": {
    "collapsed": false,
    "ExecuteTime": {
     "end_time": "2023-12-16T17:53:08.123359200Z",
     "start_time": "2023-12-16T17:53:07.995701900Z"
    }
   },
   "id": "b7b92ed914dc1412"
  },
  {
   "cell_type": "code",
   "execution_count": 292,
   "outputs": [],
   "source": [
    "# 将数据分割为特征矩阵和目标变量\n",
    "X = train_df[['Pclass', 'Sex', 'Age', 'SibSp', 'Parch', 'Fare', 'Cabin', 'Embarked', 'LastName', 'Title', 'NameLength']]\n",
    "y = train_df['Survived']\n",
    "\n",
    "# 将数据划分为训练集和测试集\n",
    "X_train, X_test, y_train, y_test = train_test_split(X, y, test_size=0.2, random_state=42)\n",
    "\n",
    "# 创建LightGBM数据集\n",
    "train_data = lgb.Dataset(X_train, label=y_train, categorical_feature=['Sex', 'Embarked'])"
   ],
   "metadata": {
    "collapsed": false,
    "ExecuteTime": {
     "end_time": "2023-12-16T17:53:08.123359200Z",
     "start_time": "2023-12-16T17:53:08.010661500Z"
    }
   },
   "id": "e5da1f4f2bed0ede"
  },
  {
   "cell_type": "code",
   "execution_count": 293,
   "outputs": [
    {
     "name": "stdout",
     "output_type": "stream",
     "text": [
      "[LightGBM] [Info] Number of positive: 268, number of negative: 444\n",
      "[LightGBM] [Debug] Dataset::GetMultiBinFromSparseFeatures: sparse rate 0.739466\n",
      "[LightGBM] [Debug] Dataset::GetMultiBinFromAllFeatures: sparse rate 0.301966\n",
      "[LightGBM] [Debug] init for col-wise cost 0.000087 seconds, init for row-wise cost 0.000186 seconds\n",
      "[LightGBM] [Info] Auto-choosing col-wise multi-threading, the overhead of testing was 0.000264 seconds.\n",
      "You can set `force_col_wise=true` to remove the overhead.\n",
      "[LightGBM] [Info] Total Bins 538\n",
      "[LightGBM] [Info] Number of data points in the train set: 712, number of used features: 11\n",
      "[LightGBM] [Debug] Use subset for bagging\n",
      "[LightGBM] [Info] [binary:BoostFromScore]: pavg=0.376404 -> initscore=-0.504838\n",
      "[LightGBM] [Info] Start training from score -0.504838\n",
      "[LightGBM] [Debug] Re-bagging, using 575 data to train\n",
      "[LightGBM] [Debug] Trained a tree with leaves = 15 and depth = 8\n",
      "[LightGBM] [Debug] Trained a tree with leaves = 15 and depth = 6\n",
      "[LightGBM] [Debug] Trained a tree with leaves = 15 and depth = 7\n",
      "[LightGBM] [Debug] Trained a tree with leaves = 15 and depth = 8\n",
      "[LightGBM] [Debug] Trained a tree with leaves = 15 and depth = 7\n",
      "[LightGBM] [Debug] Re-bagging, using 570 data to train\n",
      "[LightGBM] [Debug] Trained a tree with leaves = 15 and depth = 8\n",
      "[LightGBM] [Debug] Trained a tree with leaves = 15 and depth = 7\n",
      "[LightGBM] [Debug] Trained a tree with leaves = 15 and depth = 7\n",
      "[LightGBM] [Debug] Trained a tree with leaves = 15 and depth = 6\n",
      "[LightGBM] [Debug] Trained a tree with leaves = 15 and depth = 9\n",
      "[LightGBM] [Debug] Re-bagging, using 574 data to train\n",
      "[LightGBM] [Debug] Trained a tree with leaves = 15 and depth = 8\n",
      "[LightGBM] [Debug] Trained a tree with leaves = 15 and depth = 7\n",
      "[LightGBM] [Debug] Trained a tree with leaves = 15 and depth = 9\n",
      "[LightGBM] [Debug] Trained a tree with leaves = 15 and depth = 9\n",
      "[LightGBM] [Debug] Trained a tree with leaves = 15 and depth = 10\n",
      "[LightGBM] [Debug] Re-bagging, using 561 data to train\n",
      "[LightGBM] [Debug] Trained a tree with leaves = 15 and depth = 9\n",
      "[LightGBM] [Debug] Trained a tree with leaves = 15 and depth = 7\n",
      "[LightGBM] [Debug] Trained a tree with leaves = 15 and depth = 9\n",
      "[LightGBM] [Debug] Trained a tree with leaves = 15 and depth = 9\n",
      "[LightGBM] [Debug] Trained a tree with leaves = 15 and depth = 11\n",
      "[LightGBM] [Debug] Re-bagging, using 555 data to train\n",
      "[LightGBM] [Debug] Trained a tree with leaves = 15 and depth = 11\n",
      "[LightGBM] [Debug] Trained a tree with leaves = 15 and depth = 7\n",
      "[LightGBM] [Debug] Trained a tree with leaves = 15 and depth = 11\n",
      "[LightGBM] [Debug] Trained a tree with leaves = 15 and depth = 10\n",
      "[LightGBM] [Debug] Trained a tree with leaves = 15 and depth = 8\n",
      "[LightGBM] [Debug] Re-bagging, using 575 data to train\n",
      "[LightGBM] [Debug] Trained a tree with leaves = 15 and depth = 7\n",
      "[LightGBM] [Debug] Trained a tree with leaves = 15 and depth = 9\n",
      "[LightGBM] [Debug] Trained a tree with leaves = 15 and depth = 8\n",
      "[LightGBM] [Debug] Trained a tree with leaves = 15 and depth = 9\n",
      "[LightGBM] [Debug] Trained a tree with leaves = 15 and depth = 7\n",
      "[LightGBM] [Debug] Re-bagging, using 544 data to train\n",
      "[LightGBM] [Debug] Trained a tree with leaves = 15 and depth = 7\n",
      "[LightGBM] [Debug] Trained a tree with leaves = 15 and depth = 7\n",
      "[LightGBM] [Debug] Trained a tree with leaves = 15 and depth = 9\n",
      "[LightGBM] [Debug] Trained a tree with leaves = 15 and depth = 7\n",
      "[LightGBM] [Debug] Trained a tree with leaves = 15 and depth = 10\n",
      "[LightGBM] [Debug] Re-bagging, using 573 data to train\n",
      "[LightGBM] [Debug] Trained a tree with leaves = 15 and depth = 12\n",
      "[LightGBM] [Debug] Trained a tree with leaves = 15 and depth = 12\n",
      "[LightGBM] [Debug] Trained a tree with leaves = 15 and depth = 9\n",
      "[LightGBM] [Debug] Trained a tree with leaves = 15 and depth = 8\n",
      "[LightGBM] [Debug] Trained a tree with leaves = 15 and depth = 10\n",
      "[LightGBM] [Debug] Re-bagging, using 578 data to train\n",
      "[LightGBM] [Debug] Trained a tree with leaves = 15 and depth = 13\n",
      "[LightGBM] [Debug] Trained a tree with leaves = 15 and depth = 10\n",
      "[LightGBM] [Debug] Trained a tree with leaves = 15 and depth = 14\n",
      "[LightGBM] [Debug] Trained a tree with leaves = 15 and depth = 9\n",
      "[LightGBM] [Debug] Trained a tree with leaves = 15 and depth = 10\n",
      "[LightGBM] [Debug] Re-bagging, using 576 data to train\n",
      "[LightGBM] [Debug] Trained a tree with leaves = 15 and depth = 10\n",
      "[LightGBM] [Debug] Trained a tree with leaves = 15 and depth = 7\n",
      "[LightGBM] [Debug] Trained a tree with leaves = 15 and depth = 6\n",
      "[LightGBM] [Debug] Trained a tree with leaves = 15 and depth = 10\n",
      "[LightGBM] [Debug] Trained a tree with leaves = 15 and depth = 10\n",
      "[LightGBM] [Debug] Re-bagging, using 558 data to train\n",
      "[LightGBM] [Debug] Trained a tree with leaves = 15 and depth = 8\n",
      "[LightGBM] [Debug] Trained a tree with leaves = 15 and depth = 8\n",
      "[LightGBM] [Debug] Trained a tree with leaves = 15 and depth = 9\n",
      "[LightGBM] [Debug] Trained a tree with leaves = 15 and depth = 11\n",
      "[LightGBM] [Debug] Trained a tree with leaves = 15 and depth = 7\n",
      "[LightGBM] [Debug] Re-bagging, using 579 data to train\n",
      "[LightGBM] [Debug] Trained a tree with leaves = 15 and depth = 9\n",
      "[LightGBM] [Debug] Trained a tree with leaves = 15 and depth = 8\n",
      "[LightGBM] [Debug] Trained a tree with leaves = 15 and depth = 11\n",
      "[LightGBM] [Debug] Trained a tree with leaves = 15 and depth = 11\n",
      "[LightGBM] [Debug] Trained a tree with leaves = 15 and depth = 8\n",
      "[LightGBM] [Debug] Re-bagging, using 578 data to train\n",
      "[LightGBM] [Debug] Trained a tree with leaves = 15 and depth = 8\n",
      "[LightGBM] [Debug] Trained a tree with leaves = 15 and depth = 14\n",
      "[LightGBM] [Debug] Trained a tree with leaves = 15 and depth = 10\n",
      "[LightGBM] [Debug] Trained a tree with leaves = 15 and depth = 9\n",
      "[LightGBM] [Debug] Trained a tree with leaves = 15 and depth = 7\n",
      "[LightGBM] [Debug] Re-bagging, using 584 data to train\n",
      "[LightGBM] [Debug] Trained a tree with leaves = 15 and depth = 9\n",
      "[LightGBM] [Debug] Trained a tree with leaves = 15 and depth = 8\n",
      "[LightGBM] [Debug] Trained a tree with leaves = 15 and depth = 8\n",
      "[LightGBM] [Debug] Trained a tree with leaves = 15 and depth = 10\n",
      "[LightGBM] [Debug] Trained a tree with leaves = 15 and depth = 7\n",
      "[LightGBM] [Debug] Re-bagging, using 559 data to train\n",
      "[LightGBM] [Debug] Trained a tree with leaves = 15 and depth = 8\n",
      "[LightGBM] [Debug] Trained a tree with leaves = 15 and depth = 9\n",
      "[LightGBM] [Debug] Trained a tree with leaves = 15 and depth = 8\n",
      "[LightGBM] [Debug] Trained a tree with leaves = 15 and depth = 9\n",
      "[LightGBM] [Debug] Trained a tree with leaves = 15 and depth = 9\n",
      "[LightGBM] [Debug] Re-bagging, using 569 data to train\n",
      "[LightGBM] [Debug] Trained a tree with leaves = 15 and depth = 8\n",
      "[LightGBM] [Debug] Trained a tree with leaves = 15 and depth = 12\n",
      "[LightGBM] [Debug] Trained a tree with leaves = 15 and depth = 9\n",
      "[LightGBM] [Debug] Trained a tree with leaves = 15 and depth = 9\n",
      "[LightGBM] [Debug] Trained a tree with leaves = 15 and depth = 9\n",
      "[LightGBM] [Debug] Re-bagging, using 550 data to train\n",
      "[LightGBM] [Debug] Trained a tree with leaves = 15 and depth = 10\n",
      "[LightGBM] [Debug] Trained a tree with leaves = 15 and depth = 6\n",
      "[LightGBM] [Debug] Trained a tree with leaves = 15 and depth = 12\n",
      "[LightGBM] [Debug] Trained a tree with leaves = 15 and depth = 11\n",
      "[LightGBM] [Debug] Trained a tree with leaves = 15 and depth = 12\n",
      "[LightGBM] [Debug] Re-bagging, using 560 data to train\n",
      "[LightGBM] [Debug] Trained a tree with leaves = 15 and depth = 6\n",
      "[LightGBM] [Debug] Trained a tree with leaves = 15 and depth = 9\n",
      "[LightGBM] [Debug] Trained a tree with leaves = 15 and depth = 7\n",
      "[LightGBM] [Debug] Trained a tree with leaves = 15 and depth = 7\n",
      "[LightGBM] [Debug] Trained a tree with leaves = 15 and depth = 9\n",
      "[LightGBM] [Debug] Re-bagging, using 569 data to train\n",
      "[LightGBM] [Debug] Trained a tree with leaves = 15 and depth = 9\n",
      "[LightGBM] [Debug] Trained a tree with leaves = 15 and depth = 8\n",
      "[LightGBM] [Debug] Trained a tree with leaves = 15 and depth = 8\n",
      "[LightGBM] [Debug] Trained a tree with leaves = 15 and depth = 11\n",
      "[LightGBM] [Debug] Trained a tree with leaves = 15 and depth = 10\n",
      "[LightGBM] [Debug] Re-bagging, using 588 data to train\n",
      "[LightGBM] [Debug] Trained a tree with leaves = 15 and depth = 8\n",
      "[LightGBM] [Debug] Trained a tree with leaves = 15 and depth = 9\n",
      "[LightGBM] [Debug] Trained a tree with leaves = 15 and depth = 10\n",
      "[LightGBM] [Debug] Trained a tree with leaves = 15 and depth = 8\n",
      "[LightGBM] [Debug] Trained a tree with leaves = 15 and depth = 8\n",
      "Accuracy: 0.8435754189944135\n"
     ]
    }
   ],
   "source": [
    "# 定义 LightGBM 模型训练参数\n",
    "\n",
    "params = {\n",
    "    \"objective\": \"binary\",         # 优化目标：二分类问题\n",
    "    \"metric\": \"binary_logloss\",      # 评估指标：二分类错误率\n",
    "    \"boosting_type\": \"gbdt\",       # 使用梯度提升树算法\n",
    "    \"num_leaves\": 15,              # 每棵树的最大叶子节点数，控制树的复杂度\n",
    "    \"learning_rate\": 0.1,          # 学习率，控制每一步迭代中模型参数的调整幅度\n",
    "    \"feature_fraction\": 0.8,       # 每次迭代中随机选择特征的比例，防止过拟合\n",
    "    \"bagging_fraction\": 0.8,       # 每次迭代中随机选择数据的比例，防止过拟合\n",
    "    \"bagging_freq\": 5,             # 多少次迭代进行 bagging，增加模型的多样性\n",
    "    \"verbose\": 2                   # 控制训练过程的输出信息详细程度，设置为 2 可以提供相对详细的训练信息\n",
    "}\n",
    "\n",
    "# 应用场景和指导：\n",
    "# - \"objective\": 通常根据具体问题选择适当的目标，对于二分类问题，使用 \"binary\"。\n",
    "# - \"metric\": 选择与问题相适应的评估指标，\"binary_error\" 用于二分类问题的错误率。\n",
    "# - \"boosting_type\": 根据数据和问题选择合适的 boosting 类型，\"gbdt\" 是一种常见的选择。\n",
    "# - \"num_leaves\": 调整树的复杂度，较小的值有助于防止过拟合，但可能降低模型拟合能力。\n",
    "# - \"learning_rate\": 学习率的选择影响模型收敛速度，过大可能导致震荡，过小可能需要更多迭代。\n",
    "# - \"feature_fraction\" 和 \"bagging_fraction\": 控制每次迭代中随机选择特征和数据的比例，防止过拟合。\n",
    "# - \"bagging_freq\": 控制 bagging 的频率，增加模型的多样性，通常选择一个适中的值。\n",
    "# - \"verbose\": 控制训练过程的输出信息，调试阶段设置较大的值，生产环境设置较小的值或为 0。\n",
    "\n",
    "\n",
    "# 将测试集作为验证集\n",
    "valid_data = lgb.Dataset(X_test, label=y_test)\n",
    "valid_sets = [valid_data]\n",
    "\n",
    "model = lgb.train(params, train_data, num_boost_round=100, valid_sets=valid_sets, valid_names=[\"validation\"])\n",
    "\n",
    "# 在测试集上进行预测\n",
    "y_pred = model.predict(X_test)\n",
    "y_pred_binary = [1 if p >= 0.5 else 0 for p in y_pred]\n",
    "\n",
    "# 计算准确率\n",
    "accuracy = accuracy_score(y_test, y_pred_binary)\n",
    "print(f'Accuracy: {accuracy}')"
   ],
   "metadata": {
    "collapsed": false,
    "ExecuteTime": {
     "end_time": "2023-12-16T17:53:08.209130900Z",
     "start_time": "2023-12-16T17:53:08.029612100Z"
    }
   },
   "id": "d09b77cede7bac2f"
  },
  {
   "cell_type": "code",
   "execution_count": 293,
   "outputs": [],
   "source": [],
   "metadata": {
    "collapsed": false,
    "ExecuteTime": {
     "end_time": "2023-12-16T17:53:08.209130900Z",
     "start_time": "2023-12-16T17:53:08.088452400Z"
    }
   },
   "id": "88e0defeeee2273"
  }
 ],
 "metadata": {
  "kernelspec": {
   "display_name": "Python 3",
   "language": "python",
   "name": "python3"
  },
  "language_info": {
   "codemirror_mode": {
    "name": "ipython",
    "version": 2
   },
   "file_extension": ".py",
   "mimetype": "text/x-python",
   "name": "python",
   "nbconvert_exporter": "python",
   "pygments_lexer": "ipython2",
   "version": "2.7.6"
  }
 },
 "nbformat": 4,
 "nbformat_minor": 5
}
