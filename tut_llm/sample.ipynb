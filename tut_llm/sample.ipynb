{
 "cells": [
  {
   "cell_type": "code",
   "execution_count": 2,
   "id": "initial_id",
   "metadata": {
    "collapsed": true,
    "ExecuteTime": {
     "end_time": "2023-12-24T18:03:17.810518100Z",
     "start_time": "2023-12-24T18:03:17.796556Z"
    }
   },
   "outputs": [],
   "source": [
    "import gc\n",
    "import os\n",
    "import wandb\n",
    "import random\n",
    "import requests\n",
    "import numpy as np\n",
    "import pandas as pd\n",
    "import seaborn as sns\n",
    "from PIL import Image\n",
    "import plotly.io as pio\n",
    "import plotly.express as px\n",
    "import matplotlib.pyplot as plt\n",
    "from collections import Counter\n",
    "from nltk.corpus import stopwords\n",
    "from wordcloud import WordCloud, STOPWORDS\n",
    "\n",
    "import torch\n",
    "import torch.nn as nn\n",
    "from tqdm import tqdm\n",
    "from torch.optim import AdamW\n",
    "from sklearn.metrics import roc_auc_score\n",
    "from torch.utils.data import Dataset, DataLoader\n",
    "from sklearn.model_selection import StratifiedKFold\n",
    "from transformers import AutoTokenizer, AutoConfig, AutoModel, get_linear_schedule_with_warmup\n",
    "\n",
    "import warnings\n",
    "\n",
    "warnings.simplefilter('ignore')"
   ]
  },
  {
   "cell_type": "markdown",
   "source": [
    "## 配置plotly"
   ],
   "metadata": {
    "collapsed": false
   },
   "id": "935167fd177cb1c5"
  },
  {
   "cell_type": "code",
   "execution_count": 3,
   "outputs": [],
   "source": [
    "# Set global template and layout colors\n",
    "# 设置默认的图表模板为 \"plotly_dark\"\n",
    "pio.templates.default = \"plotly_dark\"\n",
    "# 设置图表的纸张背景颜色为深灰色 (#1F1F1F)\n",
    "pio.templates[pio.templates.default].layout['paper_bgcolor'] = '#1F1F1F'\n",
    "# 设置图表的绘图区域背景颜色为深灰色 (#1F1F1F)\n",
    "pio.templates[pio.templates.default].layout['plot_bgcolor'] = '#1F1F1F'"
   ],
   "metadata": {
    "collapsed": false,
    "ExecuteTime": {
     "end_time": "2023-12-24T18:03:31.808537700Z",
     "start_time": "2023-12-24T18:03:31.803551500Z"
    }
   },
   "id": "a51f2a4b048d58ba"
  },
  {
   "cell_type": "markdown",
   "source": [
    "## 配置分词器"
   ],
   "metadata": {
    "collapsed": false
   },
   "id": "a170c74aa75e22c8"
  },
  {
   "cell_type": "code",
   "execution_count": 4,
   "outputs": [
    {
     "data": {
      "text/plain": "('./tokenizer/tokenizer_config.json',\n './tokenizer/special_tokens_map.json',\n './tokenizer/vocab.json',\n './tokenizer/merges.txt',\n './tokenizer/added_tokens.json',\n './tokenizer/tokenizer.json')"
     },
     "execution_count": 4,
     "metadata": {},
     "output_type": "execute_result"
    }
   ],
   "source": [
    "# 定义一个名为 CONFIG 的类，用于存储配置参数\n",
    "class CONFIG:\n",
    "    # 随机种子，用于重现实验结果\n",
    "    seed = 300\n",
    "    # 折数，用于交叉验证\n",
    "    num_fold = 3\n",
    "    # 使用的预训练模型名称\n",
    "    model = 'roberta-base'\n",
    "    # 文本序列的最大长度\n",
    "    max_len = 512\n",
    "    # 训练时的批量大小\n",
    "    train_batch_size = 16\n",
    "    # 验证时的批量大小\n",
    "    valid_batch_size = 16\n",
    "    # 训练轮数（epochs）\n",
    "    epochs = 2\n",
    "    # 学习率\n",
    "    learning_rate = 1e-5\n",
    "    # 学习率调度器类型\n",
    "    scheduler = 'linear'\n",
    "    # 设备类型，如果可用 CUDA，则使用 'cuda'，否则使用 'cpu'\n",
    "    device = 'cuda' if torch.cuda.is_available() else 'cpu'\n",
    "    # 使用预训练模型的 tokenizer 来处理文本数据\n",
    "    tokenizer = AutoTokenizer.from_pretrained(model)\n",
    "\n",
    "\n",
    "# 将 tokenizer 保存到指定目录（'./tokenizer/'）\n",
    "CONFIG.tokenizer.save_pretrained('./tokenizer/')"
   ],
   "metadata": {
    "collapsed": false,
    "ExecuteTime": {
     "end_time": "2023-12-24T18:03:45.875158Z",
     "start_time": "2023-12-24T18:03:44.336520400Z"
    }
   },
   "id": "5f943013fa1bfa04"
  },
  {
   "cell_type": "markdown",
   "source": [
    "## 固定seed"
   ],
   "metadata": {
    "collapsed": false
   },
   "id": "4105aea9a83221bb"
  },
  {
   "cell_type": "code",
   "execution_count": 7,
   "outputs": [],
   "source": [
    "def seed_everything(seed):\n",
    "    random.seed(seed)\n",
    "    os.environ['PYTHONHASHSEED'] = str(seed)\n",
    "    np.random.seed(seed)\n",
    "    torch.manual_seed(seed)\n",
    "    torch.cuda.manual_seed(seed)\n",
    "    torch.backends.cudnn.deterministic = True\n",
    "\n",
    "\n",
    "seed_everything(CONFIG.seed)"
   ],
   "metadata": {
    "collapsed": false,
    "ExecuteTime": {
     "end_time": "2023-12-24T18:04:38.091753100Z",
     "start_time": "2023-12-24T18:04:38.076794Z"
    }
   },
   "id": "3318cf930fe3e8b3"
  },
  {
   "cell_type": "markdown",
   "source": [
    "## 数据读取"
   ],
   "metadata": {
    "collapsed": false
   },
   "id": "83391c793513dcea"
  },
  {
   "cell_type": "code",
   "execution_count": 12,
   "outputs": [],
   "source": [
    "df_pro = pd.read_csv(r'./datasets/train_prompts.csv')\n",
    "df_ess = pd.read_csv(r'./datasets/train_essays.csv')"
   ],
   "metadata": {
    "collapsed": false,
    "ExecuteTime": {
     "end_time": "2023-12-24T18:07:35.023301700Z",
     "start_time": "2023-12-24T18:07:34.978826900Z"
    }
   },
   "id": "d22d7485559d70f7"
  },
  {
   "cell_type": "code",
   "execution_count": 14,
   "outputs": [],
   "source": [
    "# https://www.kaggle.com/datasets/radek1/llm-generated-essays\n",
    "\n",
    "## External Dataset\n",
    "df_gpt_3_5 = pd.read_csv(\"datasets/ai_generated_train_essays.csv\")\n",
    "df_gpt_4 = pd.read_csv(\"datasets/ai_generated_train_essays_gpt-4.csv\")\n",
    "\n",
    "## Combining the original and external dataset\n",
    "df_new = pd.concat([df_ess, df_gpt_3_5, df_gpt_4]).reset_index(drop=True)"
   ],
   "metadata": {
    "collapsed": false,
    "ExecuteTime": {
     "end_time": "2023-12-24T18:11:26.401701100Z",
     "start_time": "2023-12-24T18:11:26.362249700Z"
    }
   },
   "id": "21cb7da5a9556dbb"
  },
  {
   "cell_type": "code",
   "execution_count": null,
   "outputs": [],
   "source": [],
   "metadata": {
    "collapsed": false
   },
   "id": "67ccc428fcbce678"
  },
  {
   "cell_type": "code",
   "execution_count": null,
   "outputs": [],
   "source": [],
   "metadata": {
    "collapsed": false
   },
   "id": "994a0f93804db1de"
  },
  {
   "cell_type": "code",
   "execution_count": null,
   "outputs": [],
   "source": [],
   "metadata": {
    "collapsed": false
   },
   "id": "47225fac15411b37"
  },
  {
   "cell_type": "code",
   "execution_count": null,
   "outputs": [],
   "source": [],
   "metadata": {
    "collapsed": false
   },
   "id": "62c44575c8a8b1c5"
  },
  {
   "cell_type": "code",
   "execution_count": null,
   "outputs": [],
   "source": [],
   "metadata": {
    "collapsed": false
   },
   "id": "2f12fbc040f7823c"
  },
  {
   "cell_type": "code",
   "execution_count": null,
   "outputs": [],
   "source": [],
   "metadata": {
    "collapsed": false
   },
   "id": "54fd1884cf7fde77"
  },
  {
   "cell_type": "code",
   "execution_count": null,
   "outputs": [],
   "source": [],
   "metadata": {
    "collapsed": false
   },
   "id": "d2b81cbe4cf92b26"
  },
  {
   "cell_type": "code",
   "execution_count": null,
   "outputs": [],
   "source": [],
   "metadata": {
    "collapsed": false
   },
   "id": "cceba9e755f8e02d"
  },
  {
   "cell_type": "code",
   "execution_count": null,
   "outputs": [],
   "source": [],
   "metadata": {
    "collapsed": false
   },
   "id": "1cf75bd75480906b"
  }
 ],
 "metadata": {
  "kernelspec": {
   "display_name": "Python 3",
   "language": "python",
   "name": "python3"
  },
  "language_info": {
   "codemirror_mode": {
    "name": "ipython",
    "version": 2
   },
   "file_extension": ".py",
   "mimetype": "text/x-python",
   "name": "python",
   "nbconvert_exporter": "python",
   "pygments_lexer": "ipython2",
   "version": "2.7.6"
  }
 },
 "nbformat": 4,
 "nbformat_minor": 5
}
