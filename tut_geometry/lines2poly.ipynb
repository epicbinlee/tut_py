{
 "cells": [
  {
   "cell_type": "code",
   "execution_count": 7,
   "metadata": {
    "collapsed": true
   },
   "outputs": [],
   "source": [
    "import shapely\n",
    "from shapely.geometry import GeometryCollection, LineString, Point, Polygon\n",
    "from shapely.ops import linemerge\n",
    "from shapely.ops import unary_union\n",
    "from shapely.ops import polygonize_full"
   ]
  },
  {
   "cell_type": "code",
   "execution_count": 19,
   "outputs": [],
   "source": [
    "l1 = LineString([(0, 0), (1, 0)])\n",
    "l2 = LineString([(1, 0), (1, 1)])\n",
    "l3 = LineString([(1, 1), (0, 1)])\n",
    "l4 = LineString([(0, 1), (0, 0)])\n",
    "#\n",
    "l5 = LineString([(1, 0), (1, 2)])\n",
    "l6 = LineString([(1, 2), (2, 2)])\n",
    "l7 = LineString([(2, 2), (2, 0)])\n",
    "l8 = LineString([(2, 0), (1, 0)])\n",
    "l = [l1, l2, l3, l4, l5, l6, l7, l8]"
   ],
   "metadata": {
    "collapsed": false
   }
  },
  {
   "cell_type": "code",
   "execution_count": 26,
   "outputs": [],
   "source": [
    "lm = linemerge(l)\n",
    "uu = unary_union(lm)\n",
    "pf = polygonize_full(uu)\n",
    "pfn = [x for x in pf if not x.is_empty]"
   ],
   "metadata": {
    "collapsed": false
   }
  },
  {
   "cell_type": "code",
   "execution_count": 34,
   "outputs": [
    {
     "data": {
      "text/plain": "[<GEOMETRYCOLLECTION (POLYGON ((1 0, 1 1, 1 2, 2 2, 2 0, 1 0)), POLYGON ((1 1...>]"
     },
     "execution_count": 34,
     "metadata": {},
     "output_type": "execute_result"
    }
   ],
   "source": [
    "[x for x in pfn]"
   ],
   "metadata": {
    "collapsed": false
   }
  },
  {
   "cell_type": "code",
   "execution_count": 6,
   "outputs": [],
   "source": [],
   "metadata": {
    "collapsed": false
   }
  },
  {
   "cell_type": "code",
   "execution_count": 6,
   "outputs": [],
   "source": [],
   "metadata": {
    "collapsed": false
   }
  },
  {
   "cell_type": "code",
   "execution_count": null,
   "outputs": [],
   "source": [],
   "metadata": {
    "collapsed": false,
    "pycharm": {
     "is_executing": true
    }
   }
  },
  {
   "cell_type": "code",
   "execution_count": 6,
   "outputs": [],
   "source": [],
   "metadata": {
    "collapsed": false
   }
  }
 ],
 "metadata": {
  "kernelspec": {
   "display_name": "Python 3",
   "language": "python",
   "name": "python3"
  },
  "language_info": {
   "codemirror_mode": {
    "name": "ipython",
    "version": 2
   },
   "file_extension": ".py",
   "mimetype": "text/x-python",
   "name": "python",
   "nbconvert_exporter": "python",
   "pygments_lexer": "ipython2",
   "version": "2.7.6"
  }
 },
 "nbformat": 4,
 "nbformat_minor": 0
}
