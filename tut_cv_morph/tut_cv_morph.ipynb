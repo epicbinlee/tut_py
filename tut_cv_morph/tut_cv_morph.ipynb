{
 "cells": [
  {
   "cell_type": "code",
   "execution_count": 2,
   "metadata": {
    "collapsed": true
   },
   "outputs": [],
   "source": [
    "# pip install opencv-python==4.5.3.56\n",
    "import cv2\n",
    "import matplotlib.pyplot as plt\n",
    "import numpy as np\n",
    "# %matplotlib inline"
   ]
  },
  {
   "cell_type": "code",
   "execution_count": 3,
   "outputs": [],
   "source": [
    "def show_img(_name, _img):\n",
    "    cv2.imshow(_name, _img)\n",
    "    cv2.waitKey(0)\n",
    "    cv2.destroyAllWindows()\n",
    "    cv2.waitKey(1)"
   ],
   "metadata": {
    "collapsed": false
   }
  },
  {
   "cell_type": "code",
   "execution_count": 4,
   "outputs": [],
   "source": [
    "img = cv2.imread('dige.png')"
   ],
   "metadata": {
    "collapsed": false
   }
  },
  {
   "cell_type": "code",
   "execution_count": 5,
   "outputs": [],
   "source": [
    "# 腐蚀\n",
    "kernel = np.ones((5, 5), np.int8)\n",
    "erosion = cv2.erode(img, kernel=kernel, iterations=1)\n",
    "show_img('erosion', erosion)"
   ],
   "metadata": {
    "collapsed": false
   }
  },
  {
   "cell_type": "code",
   "execution_count": 13,
   "outputs": [],
   "source": [
    "# 腐蚀\n",
    "img = cv2.imread('dige.png')\n",
    "kernel = np.ones((3, 3), np.int8)\n",
    "erosion1 = cv2.erode(img, kernel=kernel, iterations=1)\n",
    "erosion2 = cv2.erode(img, kernel=kernel, iterations=2)\n",
    "erosion3 = cv2.erode(img, kernel=kernel, iterations=3)\n",
    "res = np.hstack((erosion1, erosion2, erosion3))\n",
    "show_img('erosion', res)"
   ],
   "metadata": {
    "collapsed": false
   }
  },
  {
   "cell_type": "code",
   "execution_count": 15,
   "outputs": [],
   "source": [
    "# 膨胀\n",
    "img = cv2.imread('dige.png')\n",
    "kernel = np.ones((2, 2), np.int8)\n",
    "erosion1 = cv2.dilate(img, kernel=kernel, iterations=1)\n",
    "erosion2 = cv2.dilate(img, kernel=kernel, iterations=2)\n",
    "erosion3 = cv2.dilate(img, kernel=kernel, iterations=3)\n",
    "res = np.hstack((erosion1, erosion2, erosion3))\n",
    "show_img('erosion', res)"
   ],
   "metadata": {
    "collapsed": false
   }
  },
  {
   "cell_type": "code",
   "execution_count": 25,
   "outputs": [],
   "source": [
    "# 开闭运算\n",
    "img = cv2.imread('dige.png')\n",
    "show_img('img', img)\n",
    "kernel = np.ones((5, 5), np.int8)\n",
    "# 开运算：先腐蚀 再膨胀\n",
    "opening = cv2.morphologyEx(img, cv2.MORPH_OPEN, kernel=kernel)\n",
    "show_img('opening', opening)\n",
    "# 闭运算：先膨胀 再腐蚀\n",
    "closing = cv2.morphologyEx(img, cv2.MORPH_CLOSE, kernel=kernel)\n",
    "show_img('closing', closing)\n",
    "# 碰撞结果 - 腐蚀结果 = 梯度(显示为空心)\n",
    "gradient = cv2.morphologyEx(img, cv2.MORPH_GRADIENT, kernel=kernel)\n",
    "show_img('closing', gradient)"
   ],
   "metadata": {
    "collapsed": false
   }
  },
  {
   "cell_type": "code",
   "execution_count": 28,
   "outputs": [],
   "source": [
    "# 礼帽：原始 - 开运算 (只剩下刺)\n",
    "to_path = cv2.morphologyEx(img, cv2.MORPH_TOPHAT, kernel=kernel)\n",
    "show_img('closing', to_path)\n",
    "# 黑帽：闭运算 - 原始输入\n",
    "kernel = np.ones((2, 2), np.int8)\n",
    "to_path = cv2.morphologyEx(img, cv2.MORPH_BLACKHAT, kernel=kernel)\n",
    "show_img('closing', to_path)"
   ],
   "metadata": {
    "collapsed": false
   }
  },
  {
   "cell_type": "code",
   "execution_count": 50,
   "outputs": [],
   "source": [
    "# 使用Sobel梯度计算边界\n",
    "img = cv2.imread('cicle.png')\n",
    "sobel_x = cv2.Sobel(img, cv2.CV_64F, 1, 0, ksize=3)\n",
    "# 取绝对值\n",
    "sobel_x = cv2.convertScaleAbs(sobel_x)\n",
    "sobel_y = cv2.Sobel(img, cv2.CV_64F, 0, 1, ksize=3)\n",
    "sobel_y = cv2.convertScaleAbs(sobel_y)\n",
    "show_img('sobel_x', sobel_x)\n",
    "show_img('sobel_y', sobel_y)"
   ],
   "metadata": {
    "collapsed": false
   }
  },
  {
   "cell_type": "code",
   "execution_count": 51,
   "outputs": [],
   "source": [
    "sobel_xy = cv2.addWeighted(sobel_x, 0.5, sobel_y, 0.5, 0)\n",
    "show_img('xy', sobel_xy)"
   ],
   "metadata": {
    "collapsed": false
   }
  },
  {
   "cell_type": "code",
   "execution_count": 56,
   "outputs": [],
   "source": [
    "# 不建议使用\n",
    "sobel_xy = cv2.Sobel(img, cv2.CV_64F, 1, 1, ksize=3)\n",
    "sobel_xy = cv2.convertScaleAbs(sobel_xy)\n",
    "show_img('xy', sobel_xy)"
   ],
   "metadata": {
    "collapsed": false
   }
  },
  {
   "cell_type": "code",
   "execution_count": 58,
   "outputs": [],
   "source": [
    "# 使用Sobel梯度计算边界\n",
    "img = cv2.imread('cicle.png')\n",
    "sobel_x = cv2.Scharr(img, cv2.CV_64F, 1, 0)\n",
    "sobel_x = cv2.convertScaleAbs(sobel_x)\n",
    "sobel_y = cv2.Scharr(img, cv2.CV_64F, 0, 1)\n",
    "sobel_y = cv2.convertScaleAbs(sobel_y)\n",
    "show_img('sobel_x', sobel_x)\n",
    "show_img('sobel_y', sobel_y)"
   ],
   "metadata": {
    "collapsed": false
   }
  },
  {
   "cell_type": "code",
   "execution_count": 60,
   "outputs": [],
   "source": [
    "lap = cv2.Laplacian(img, cv2.CV_64F)\n",
    "sobel = cv2.convertScaleAbs(lap)\n",
    "show_img('sobel', sobel)"
   ],
   "metadata": {
    "collapsed": false
   }
  },
  {
   "cell_type": "code",
   "execution_count": null,
   "outputs": [],
   "source": [],
   "metadata": {
    "collapsed": false
   }
  },
  {
   "cell_type": "code",
   "execution_count": null,
   "outputs": [],
   "source": [],
   "metadata": {
    "collapsed": false
   }
  },
  {
   "cell_type": "code",
   "execution_count": null,
   "outputs": [],
   "source": [],
   "metadata": {
    "collapsed": false
   }
  },
  {
   "cell_type": "code",
   "execution_count": null,
   "outputs": [],
   "source": [],
   "metadata": {
    "collapsed": false
   }
  },
  {
   "cell_type": "code",
   "execution_count": null,
   "outputs": [],
   "source": [],
   "metadata": {
    "collapsed": false
   }
  }
 ],
 "metadata": {
  "kernelspec": {
   "display_name": "Python 3",
   "language": "python",
   "name": "python3"
  },
  "language_info": {
   "codemirror_mode": {
    "name": "ipython",
    "version": 2
   },
   "file_extension": ".py",
   "mimetype": "text/x-python",
   "name": "python",
   "nbconvert_exporter": "python",
   "pygments_lexer": "ipython2",
   "version": "2.7.6"
  }
 },
 "nbformat": 4,
 "nbformat_minor": 0
}
